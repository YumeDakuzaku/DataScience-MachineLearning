{
 "cells": [
  {
   "cell_type": "markdown",
   "id": "62e29cff",
   "metadata": {},
   "source": [
    "# What is 7 to the power of 4?"
   ]
  },
  {
   "cell_type": "code",
   "execution_count": 1,
   "id": "69b8bebc",
   "metadata": {},
   "outputs": [
    {
     "data": {
      "text/plain": [
       "2401"
      ]
     },
     "execution_count": 1,
     "metadata": {},
     "output_type": "execute_result"
    }
   ],
   "source": [
    "7**4"
   ]
  },
  {
   "cell_type": "markdown",
   "id": "c5f6ea46",
   "metadata": {},
   "source": [
    "# Split this string: \n",
    "    s = \"Hi there Sam!\"\n",
    "    into a list"
   ]
  },
  {
   "cell_type": "code",
   "execution_count": 2,
   "id": "cbe773a3",
   "metadata": {},
   "outputs": [],
   "source": [
    "s = \"Hi there Sam!\""
   ]
  },
  {
   "cell_type": "code",
   "execution_count": 3,
   "id": "e068447a",
   "metadata": {},
   "outputs": [
    {
     "data": {
      "text/plain": [
       "['Hi', 'there', 'Sam!']"
      ]
     },
     "execution_count": 3,
     "metadata": {},
     "output_type": "execute_result"
    }
   ],
   "source": [
    "s.split() #caso tenha algum caractere especial, inserir dentro dos parênteses"
   ]
  },
  {
   "cell_type": "markdown",
   "id": "7306a649",
   "metadata": {},
   "source": [
    "# Given the variables:\n",
    "    planet = \"Earth\"\n",
    "    diameter = 12742\n",
    "   Use .formart() to print the following string:\n",
    "    The diameter of Earth is 12742 kilometers."
   ]
  },
  {
   "cell_type": "code",
   "execution_count": 4,
   "id": "9bf9d4ba",
   "metadata": {},
   "outputs": [
    {
     "name": "stdout",
     "output_type": "stream",
     "text": [
      "The diameter of Earth is 12742 kilometers.\n"
     ]
    }
   ],
   "source": [
    "planet = \"Earth\"\n",
    "diameter = 12742\n",
    "print('The diameter of {} is {} kilometers.'.format(planet,diameter))"
   ]
  },
  {
   "cell_type": "markdown",
   "id": "23278a8f",
   "metadata": {},
   "source": [
    "# Given this nested list, use indexing to grab the word \"hello\""
   ]
  },
  {
   "cell_type": "code",
   "execution_count": 5,
   "id": "6eef96d1",
   "metadata": {},
   "outputs": [],
   "source": [
    "lst = [1,2,[3,4],[5,[100,200,['hello']],23,11],1,7]"
   ]
  },
  {
   "cell_type": "code",
   "execution_count": 6,
   "id": "5e7b2493",
   "metadata": {},
   "outputs": [
    {
     "data": {
      "text/plain": [
       "['hello']"
      ]
     },
     "execution_count": 6,
     "metadata": {},
     "output_type": "execute_result"
    }
   ],
   "source": [
    "lst[3][1][2]"
   ]
  },
  {
   "cell_type": "markdown",
   "id": "ea64aa5e",
   "metadata": {},
   "source": [
    "# Given this nest dictionary grab the word \"hello\". Be prepared, this will be annoying/tricky"
   ]
  },
  {
   "cell_type": "code",
   "execution_count": 7,
   "id": "0cef3497",
   "metadata": {},
   "outputs": [],
   "source": [
    "d = {'k1':[1,2,3,{'tricky':['oh','man','inception',{'target':[1,2,3,'hello']}]}]}"
   ]
  },
  {
   "cell_type": "code",
   "execution_count": 9,
   "id": "bbcfcf14",
   "metadata": {},
   "outputs": [
    {
     "data": {
      "text/plain": [
       "{'tricky': ['oh', 'man', 'inception', {'target': [1, 2, 3, 'hello']}]}"
      ]
     },
     "execution_count": 9,
     "metadata": {},
     "output_type": "execute_result"
    }
   ],
   "source": [
    "d['k1'][3]"
   ]
  },
  {
   "cell_type": "code",
   "execution_count": 10,
   "id": "a774efbf",
   "metadata": {},
   "outputs": [
    {
     "data": {
      "text/plain": [
       "'hello'"
      ]
     },
     "execution_count": 10,
     "metadata": {},
     "output_type": "execute_result"
    }
   ],
   "source": [
    "d['k1'][3]['tricky'][3]['target'][3]"
   ]
  },
  {
   "cell_type": "markdown",
   "id": "1dcb06d7",
   "metadata": {},
   "source": [
    "# What is the main difference between a tupple and a list? "
   ]
  },
  {
   "cell_type": "raw",
   "id": "8b0b4955",
   "metadata": {},
   "source": [
    "# tuple is immutable, that is, after creation it is not possible to make changes to its state and list is mutable"
   ]
  },
  {
   "cell_type": "markdown",
   "id": "ad45d42c",
   "metadata": {},
   "source": [
    "# Create a function that grabs the email website domain from a string in the form:\n",
    "    user@domain.com\n",
    "    So for example, passing \"user@domain.com\" would retunr: domain.com"
   ]
  },
  {
   "cell_type": "code",
   "execution_count": 11,
   "id": "e60e172e",
   "metadata": {},
   "outputs": [],
   "source": [
    "def domainGet(email):\n",
    "    return email.split('@')[1]"
   ]
  },
  {
   "cell_type": "code",
   "execution_count": 12,
   "id": "2aeb895d",
   "metadata": {},
   "outputs": [
    {
     "data": {
      "text/plain": [
       "'domain.com'"
      ]
     },
     "execution_count": 12,
     "metadata": {},
     "output_type": "execute_result"
    }
   ],
   "source": [
    "domainGet('user@domain.com')"
   ]
  },
  {
   "cell_type": "markdown",
   "id": "8fbd38eb",
   "metadata": {},
   "source": [
    "# Create a basic function that returns TRUE if the word 'dog' os contained in the input string. \n",
    "# Don't worry about edge cases like a puctuation being attached to the word dog, but do account for capitalization."
   ]
  },
  {
   "cell_type": "code",
   "execution_count": 13,
   "id": "6a2f2c69",
   "metadata": {},
   "outputs": [],
   "source": [
    "def findDog(s):\n",
    "    return 'dog' in s.lower().split()"
   ]
  },
  {
   "cell_type": "code",
   "execution_count": 14,
   "id": "b400f7e3",
   "metadata": {},
   "outputs": [
    {
     "data": {
      "text/plain": [
       "True"
      ]
     },
     "execution_count": 14,
     "metadata": {},
     "output_type": "execute_result"
    }
   ],
   "source": [
    "findDog('Is there a dog here?')"
   ]
  },
  {
   "cell_type": "code",
   "execution_count": 15,
   "id": "c2614ac9",
   "metadata": {},
   "outputs": [],
   "source": [
    "s = 'Is there a dog here?'"
   ]
  },
  {
   "cell_type": "code",
   "execution_count": 16,
   "id": "5e6a428c",
   "metadata": {},
   "outputs": [
    {
     "data": {
      "text/plain": [
       "True"
      ]
     },
     "execution_count": 16,
     "metadata": {},
     "output_type": "execute_result"
    }
   ],
   "source": [
    "'dog' in s.lower().split()"
   ]
  },
  {
   "cell_type": "markdown",
   "id": "80e5ece1",
   "metadata": {},
   "source": [
    "# Create a function that counts the number of time the word 'dog' occurs in a string. Again ignore edge cases."
   ]
  },
  {
   "cell_type": "code",
   "execution_count": 17,
   "id": "58d31172",
   "metadata": {},
   "outputs": [],
   "source": [
    "def countDog(st):\n",
    "    count=0\n",
    "    for word in st.lower().split():\n",
    "        if word =='dog':\n",
    "            count +=1\n",
    "    return count"
   ]
  },
  {
   "cell_type": "code",
   "execution_count": 18,
   "id": "ad44f46b",
   "metadata": {},
   "outputs": [
    {
     "data": {
      "text/plain": [
       "2"
      ]
     },
     "execution_count": 18,
     "metadata": {},
     "output_type": "execute_result"
    }
   ],
   "source": [
    "countDog('This dog runs faster than the other dog dude!')"
   ]
  },
  {
   "cell_type": "markdown",
   "id": "116ca5e9",
   "metadata": {},
   "source": [
    "# Use lambda expressions and the filter() function to filter out words from a list that don't start with the letter 's'. For example: \n",
    "seq =['soup','dog','salad','cat','great']\n",
    "\n",
    "\n",
    "should be filtered down to:\n",
    "    ['soup','salad']"
   ]
  },
  {
   "cell_type": "code",
   "execution_count": 19,
   "id": "d98d58b0",
   "metadata": {},
   "outputs": [],
   "source": [
    "seq =['soup','dog','salad','cat','great']"
   ]
  },
  {
   "cell_type": "code",
   "execution_count": 20,
   "id": "c757697e",
   "metadata": {},
   "outputs": [
    {
     "data": {
      "text/plain": [
       "['soup', 'salad']"
      ]
     },
     "execution_count": 20,
     "metadata": {},
     "output_type": "execute_result"
    }
   ],
   "source": [
    "list(filter(lambda word: word[0]=='s',seq))"
   ]
  },
  {
   "cell_type": "markdown",
   "id": "70b8052c",
   "metadata": {},
   "source": [
    "# Final Problem\n",
    "\n",
    "You are driving a little too fast, and a police officer stops you. Write a function to return one of 3 possible results: \"No ticket\", \"Small ticket\" or \"Big ticket\". If you speed is 60 or less, the result is \"No ticket\". If speed is between 61 and 80 inclusive, the result is \"Small Ticket\".\n",
    "If speed is 81 or more, the result is \"Big ticket\". Unless it is your birthday (encoded as a boolean value in the parameters of the function) -- on your birthday, your speed can be 5 higher in all cases."
   ]
  },
  {
   "cell_type": "code",
   "execution_count": 21,
   "id": "ff287ac2",
   "metadata": {},
   "outputs": [],
   "source": [
    "def caught_speeding(speed, is_birthday):\n",
    "    \n",
    "    if is_birthday:\n",
    "        speeding = speed - 5\n",
    "    else:\n",
    "        speeding = speed\n",
    "        \n",
    "    if speeding > 80:\n",
    "        return 'Big ticket'\n",
    "    elif speeding > 60:\n",
    "        return 'Small ticket'\n",
    "    else:\n",
    "        return 'No ticket'"
   ]
  },
  {
   "cell_type": "code",
   "execution_count": 22,
   "id": "aac3951a",
   "metadata": {},
   "outputs": [
    {
     "data": {
      "text/plain": [
       "'Small ticket'"
      ]
     },
     "execution_count": 22,
     "metadata": {},
     "output_type": "execute_result"
    }
   ],
   "source": [
    "caught_speeding(81,True)"
   ]
  }
 ],
 "metadata": {
  "kernelspec": {
   "display_name": "Python 3 (ipykernel)",
   "language": "python",
   "name": "python3"
  },
  "language_info": {
   "codemirror_mode": {
    "name": "ipython",
    "version": 3
   },
   "file_extension": ".py",
   "mimetype": "text/x-python",
   "name": "python",
   "nbconvert_exporter": "python",
   "pygments_lexer": "ipython3",
   "version": "3.9.12"
  }
 },
 "nbformat": 4,
 "nbformat_minor": 5
}
